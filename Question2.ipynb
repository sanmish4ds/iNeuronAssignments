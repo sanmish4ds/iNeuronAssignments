{
  "nbformat": 4,
  "nbformat_minor": 0,
  "metadata": {
    "colab": {
      "name": "Question2.ipynb",
      "provenance": [],
      "authorship_tag": "ABX9TyPP4kSveq96Y/8Ua8yczrfz",
      "include_colab_link": true
    },
    "kernelspec": {
      "name": "python3",
      "display_name": "Python 3"
    }
  },
  "cells": [
    {
      "cell_type": "markdown",
      "metadata": {
        "id": "view-in-github",
        "colab_type": "text"
      },
      "source": [
        "<a href=\"https://colab.research.google.com/github/sanmish4ds/iNeuronAssignments/blob/master/Question2.ipynb\" target=\"_parent\"><img src=\"https://colab.research.google.com/assets/colab-badge.svg\" alt=\"Open In Colab\"/></a>"
      ]
    },
    {
      "cell_type": "code",
      "metadata": {
        "id": "8p1Yy05u7NSK",
        "colab_type": "code",
        "colab": {
          "base_uri": "https://localhost:8080/",
          "height": 69
        },
        "outputId": "971193fe-26ec-45b2-b0f9-c1de463a457e"
      },
      "source": [
        "x_first_name= input('Enter First Name: ')\n",
        "x_last_name= input('Enter Last Name: ')\n",
        "print(x_last_name+\" \"+x_first_name)\n"
      ],
      "execution_count": 1,
      "outputs": [
        {
          "output_type": "stream",
          "text": [
            "Enter First Name: sanjay\n",
            "Enter Last Name: mishra\n",
            "mishra sanjay\n"
          ],
          "name": "stdout"
        }
      ]
    }
  ]
}