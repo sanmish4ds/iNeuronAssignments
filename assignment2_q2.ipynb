{
  "nbformat": 4,
  "nbformat_minor": 0,
  "metadata": {
    "colab": {
      "name": "assignment2_q2.ipynb",
      "provenance": [],
      "authorship_tag": "ABX9TyOSyfJe8O+WgGgJkOLuRqWJ",
      "include_colab_link": true
    },
    "kernelspec": {
      "name": "python3",
      "display_name": "Python 3"
    }
  },
  "cells": [
    {
      "cell_type": "markdown",
      "metadata": {
        "id": "view-in-github",
        "colab_type": "text"
      },
      "source": [
        "<a href=\"https://colab.research.google.com/github/sanmish4ds/iNeuronAssignments/blob/master/assignment2_q2.ipynb\" target=\"_parent\"><img src=\"https://colab.research.google.com/assets/colab-badge.svg\" alt=\"Open In Colab\"/></a>"
      ]
    },
    {
      "cell_type": "code",
      "metadata": {
        "id": "rN2TEZQEXqh6",
        "colab_type": "code",
        "colab": {
          "base_uri": "https://localhost:8080/",
          "height": 52
        },
        "outputId": "560080b6-4a03-4e6b-b0af-80ddd8604856"
      },
      "source": [
        "words = input('Enter a word to reverse : ')\n",
        "y=''\n",
        "for i in range(len(words),0,-1):\n",
        "    y= y+words[i-1]\n",
        "print(y)"
      ],
      "execution_count": 1,
      "outputs": [
        {
          "output_type": "stream",
          "text": [
            "Enter a word to reverse : elephant\n",
            "tnahpele\n"
          ],
          "name": "stdout"
        }
      ]
    }
  ]
}